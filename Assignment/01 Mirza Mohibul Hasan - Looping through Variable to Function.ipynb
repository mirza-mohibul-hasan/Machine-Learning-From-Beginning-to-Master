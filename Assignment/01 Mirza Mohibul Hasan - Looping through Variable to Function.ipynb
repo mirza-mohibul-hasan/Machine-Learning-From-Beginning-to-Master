{
 "cells": [
  {
   "cell_type": "markdown",
   "metadata": {},
   "source": [
    "# 👨‍💻 Python Hands-On Assignment (Easy to Medium Level)\n",
    "\n",
    "**Topics Covered:**  \n",
    "Variables · Operators · Loops · Conditionals · Functions · File Handling"
   ]
  },
  {
   "cell_type": "markdown",
   "metadata": {},
   "source": [
    "## Level 1: Warm-Up\n",
    "Example of writing using this notebook. First tell me your Full Name, please!"
   ]
  },
  {
   "cell_type": "code",
   "execution_count": 1,
   "metadata": {},
   "outputs": [
    {
     "name": "stdin",
     "output_type": "stream",
     "text": [
      "Enter your name:  Mohibul\n"
     ]
    },
    {
     "data": {
      "text/plain": [
       "'Mohibul'"
      ]
     },
     "execution_count": 1,
     "metadata": {},
     "output_type": "execute_result"
    }
   ],
   "source": [
    "student_name = input(\"Enter your name: \")\n",
    "student_name"
   ]
  },
  {
   "cell_type": "markdown",
   "metadata": {},
   "source": [
    "### 1. Greet the User\n",
    "Write a function `greet_user()` that asks the user for their name and prints a welcome message."
   ]
  },
  {
   "cell_type": "code",
   "execution_count": 2,
   "metadata": {},
   "outputs": [
    {
     "name": "stdout",
     "output_type": "stream",
     "text": [
      "Testing greet_user function...\n"
     ]
    },
    {
     "name": "stdin",
     "output_type": "stream",
     "text": [
      "Please enter your name:  Mohibul\n"
     ]
    },
    {
     "name": "stdout",
     "output_type": "stream",
     "text": [
      "Hello, Mohibul! Welcome to the program.\n"
     ]
    }
   ],
   "source": [
    "# Your code here\n",
    "def greet_user():\n",
    "    \"\"\"\n",
    "    This function prints a greeting message to the user.\n",
    "    \"\"\"\n",
    "    name = input(\"Please enter your name: \")\n",
    "    print(f\"Hello, {name}! Welcome to the program.\")\n",
    "\n",
    "# Test function. \n",
    "if __name__ == \"__main__\":\n",
    "    print(\"Testing greet_user function...\")\n",
    "    greet_user()"
   ]
  },
  {
   "cell_type": "markdown",
   "metadata": {},
   "source": [
    "### 2. Area Calculator\n",
    "Create a function `calculate_area(length, width)` that returns the area of a rectangle."
   ]
  },
  {
   "cell_type": "code",
   "execution_count": 3,
   "metadata": {},
   "outputs": [
    {
     "name": "stdout",
     "output_type": "stream",
     "text": [
      "60\n"
     ]
    }
   ],
   "source": [
    "# Your code here\n",
    "def calculate_area(length, width):\n",
    "    return length * width\n",
    "\n",
    "# Test function. Don't modify this.\n",
    "if __name__ == \"__main__\":\n",
    "    area = calculate_area(15, 4) \n",
    "    print(area) # Expected output: 60"
   ]
  },
  {
   "cell_type": "markdown",
   "metadata": {},
   "source": [
    "## Level 2: Conditionals and Loops"
   ]
  },
  {
   "cell_type": "markdown",
   "metadata": {},
   "source": [
    "### 3. Even or Odd Checker\n",
    "Ask the user for a number and check whether it is even or odd."
   ]
  },
  {
   "cell_type": "code",
   "execution_count": 4,
   "metadata": {},
   "outputs": [
    {
     "name": "stdin",
     "output_type": "stream",
     "text": [
      "Enter a number:  19\n"
     ]
    },
    {
     "name": "stdout",
     "output_type": "stream",
     "text": [
      "Odd\n"
     ]
    }
   ],
   "source": [
    "# Your code here\n",
    "def check_even_odd(num):\n",
    "    return num % 2 == 0\n",
    "\n",
    "# Test function\n",
    "if __name__ == \"__main__\": \n",
    "    num = int(input(\"Enter a number: \"))\n",
    "    print(\"Even\" if check_even_odd(num) else \"Odd\")"
   ]
  },
  {
   "cell_type": "markdown",
   "metadata": {},
   "source": [
    "### 4. Multiplication Table Generator\n",
    "Write a function `print_table(n)` that prints the multiplication table of `n` up to 10."
   ]
  },
  {
   "cell_type": "code",
   "execution_count": 5,
   "metadata": {},
   "outputs": [
    {
     "name": "stdout",
     "output_type": "stream",
     "text": [
      "10 x 1 = 10\n",
      "10 x 2 = 20\n",
      "10 x 3 = 30\n",
      "10 x 4 = 40\n",
      "10 x 5 = 50\n",
      "10 x 6 = 60\n",
      "10 x 7 = 70\n",
      "10 x 8 = 80\n",
      "10 x 9 = 90\n",
      "10 x 10 = 100\n"
     ]
    }
   ],
   "source": [
    "# Your code here\n",
    "def print_table(n):\n",
    "    for val in range(1, 11):\n",
    "        print(f'{n} x {val} = {n * val}')\n",
    "\n",
    "# Test function. Don't modify this.\n",
    "if __name__ == \"__main__\":\n",
    "    print_table(10) \n",
    "    \"\"\"\n",
    "    Expected output: \n",
    "    10 x 1 = 10\n",
    "    10 x 2 = 20\n",
    "    ...\n",
    "    10 x 10 = 100\n",
    "    \"\"\""
   ]
  },
  {
   "cell_type": "markdown",
   "metadata": {},
   "source": [
    "### 5. Password Strength Checker\n",
    "Ask the user to enter a password and check if it is strong based on given conditions:\n",
    "- It should contain at least:\n",
    "    - one capital letter\n",
    "    - one small letter\n",
    "    - one digit"
   ]
  },
  {
   "cell_type": "code",
   "execution_count": 6,
   "metadata": {},
   "outputs": [
    {
     "name": "stdin",
     "output_type": "stream",
     "text": [
      "Enter your password:  Mirza01\n"
     ]
    },
    {
     "name": "stdout",
     "output_type": "stream",
     "text": [
      "Strong password\n"
     ]
    }
   ],
   "source": [
    "def check_upper(password):\n",
    "    for char in password:\n",
    "        if char >= 'A' and char <= 'Z':\n",
    "            return True\n",
    "    return False\n",
    "\n",
    "def check_lower(password):\n",
    "    for char in password:\n",
    "        if char >= 'a' and char <= 'z':\n",
    "            return True\n",
    "    return False\n",
    "\n",
    "def check_digit(password):\n",
    "    for char in password:\n",
    "        if char >= '0' and char <= '9':\n",
    "            return True\n",
    "    return False\n",
    "\n",
    "def is_strong_password(password):\n",
    "    if check_upper(password) and check_lower(password) and check_digit(password):\n",
    "        return True\n",
    "    else:\n",
    "        return False\n",
    "\n",
    "# Test function\n",
    "if __name__ == \"__main__\":\n",
    "    password = input(\"Enter your password: \")\n",
    "    \n",
    "    if is_strong_password(password):\n",
    "        print(\"Strong password\")\n",
    "    else:\n",
    "        print(\"Weak password\")"
   ]
  },
  {
   "cell_type": "markdown",
   "metadata": {},
   "source": [
    "## Level 3: Loop + Function"
   ]
  },
  {
   "cell_type": "markdown",
   "metadata": {},
   "source": [
    "### 6. Prime Number Finder\n",
    "Create a function `is_prime(n)` and print all prime numbers from 1 to 100."
   ]
  },
  {
   "cell_type": "code",
   "execution_count": 7,
   "metadata": {},
   "outputs": [
    {
     "name": "stdout",
     "output_type": "stream",
     "text": [
      "Prime numbers from 1 to 100 are: 2 3 5 7 11 13 17 19 23 29 31 37 41 43 47 53 59 61 67 71 73 79 83 89 97 \n"
     ]
    }
   ],
   "source": [
    "def is_prime(n):\n",
    "    if n <= 1:\n",
    "        return False\n",
    "    for i in range(2, n):\n",
    "        if n % i == 0:\n",
    "            return False\n",
    "    return True\n",
    "\n",
    "def print_primes():\n",
    "    print(\"Prime numbers from 1 to 100 are: \", end='')\n",
    "    for number in range(1, 101):\n",
    "        if is_prime(number):\n",
    "            print(number, end=' ')\n",
    "    print()\n",
    "\n",
    "# Test function\n",
    "if __name__ == \"__main__\":\n",
    "    print_primes()\n"
   ]
  },
  {
   "cell_type": "markdown",
   "metadata": {},
   "source": [
    "## Level 4: File Handling"
   ]
  },
  {
   "cell_type": "markdown",
   "metadata": {},
   "source": [
    "### 7. Write to File: Shopping List\n",
    "Ask the user for 5 shopping items and write them to a file `shopping_list.txt`."
   ]
  },
  {
   "cell_type": "code",
   "execution_count": 8,
   "metadata": {},
   "outputs": [
    {
     "name": "stdout",
     "output_type": "stream",
     "text": [
      "Enter 5 shopping items:\n"
     ]
    },
    {
     "name": "stdin",
     "output_type": "stream",
     "text": [
      "Item 1:  Egg\n",
      "Item 2:  Chicken\n",
      "Item 3:  Fish\n",
      "Item 4:  Fruits\n",
      "Item 5:  Rice\n"
     ]
    },
    {
     "name": "stdout",
     "output_type": "stream",
     "text": [
      "Shopping list created\n"
     ]
    }
   ],
   "source": [
    "def collect_shopping_items():\n",
    "    items = []\n",
    "    print(\"Enter 5 shopping items:\")\n",
    "    for i in range(5):\n",
    "        item = input(f\"Item {i + 1}: \")\n",
    "        items.append(item)\n",
    "    return items\n",
    "\n",
    "def write_to_file(filename, items):\n",
    "    with open(filename, 'w') as file:\n",
    "        for item in items:\n",
    "            file.write(item + '\\n')\n",
    "\n",
    "# Main function\n",
    "if __name__ == \"__main__\":\n",
    "    shopping_items = collect_shopping_items()\n",
    "    write_to_file(\"shopping_list.txt\", shopping_items)\n",
    "    print(\"Shopping list created\")\n"
   ]
  },
  {
   "cell_type": "markdown",
   "metadata": {},
   "source": [
    "### 8. Read and Count Words\n",
    "Read a file `sample.txt` and count the number of words in it."
   ]
  },
  {
   "cell_type": "code",
   "execution_count": 9,
   "metadata": {},
   "outputs": [
    {
     "name": "stdout",
     "output_type": "stream",
     "text": [
      "'sample.txt' was not found.\n",
      "Number of Words: 0\n"
     ]
    }
   ],
   "source": [
    "def count_words(filename):\n",
    "    try:\n",
    "        with open(filename, 'r') as file:\n",
    "            content = file.read()\n",
    "            words = content.split()\n",
    "            return len(words)\n",
    "    except FileNotFoundError:\n",
    "        print(f\"'{filename}' was not found.\")\n",
    "        return 0\n",
    "\n",
    "# Main function\n",
    "if __name__ == \"__main__\":\n",
    "    filename = \"sample.txt\"\n",
    "    word_count = count_words(filename)\n",
    "    print(f\"Number of Words: {word_count}\")\n",
    "\n",
    "    '''\n",
    "    Python is a high-level, general-purpose programming language. Its design philosophy emphasizes code readability with the use of significant indentation.\n",
    "    '''"
   ]
  },
  {
   "cell_type": "markdown",
   "metadata": {},
   "source": [
    "## Level 5: Integration Challenge"
   ]
  },
  {
   "cell_type": "markdown",
   "metadata": {},
   "source": [
    "### 9. Student Gradebook\n",
    "- Ask for the number of students\n",
    "- Get each student's name and marks\n",
    "- Store them in a dictionary\n",
    "- Write name and \"Pass\" or \"Fail\" to `grades.txt` (Pass if marks ≥ 40)"
   ]
  },
  {
   "cell_type": "code",
   "execution_count": 33,
   "metadata": {},
   "outputs": [
    {
     "name": "stdin",
     "output_type": "stream",
     "text": [
      "Number of students:  5\n",
      "Name of student 1:  Masum\n",
      "Marks of Masum:  35\n",
      "Name of student 2:  Joydip\n",
      "Marks of Joydip:  70\n",
      "Name of student 3:  Shojib\n",
      "Marks of Shojib:  65\n",
      "Name of student 4:  Joy\n",
      "Marks of Joy:  60\n",
      "Name of student 5:  Rafi\n",
      "Marks of Rafi:  25\n"
     ]
    },
    {
     "name": "stdout",
     "output_type": "stream",
     "text": [
      "Grades Saved\n"
     ]
    }
   ],
   "source": [
    "def get_student_data():\n",
    "    students = {}\n",
    "    n = int(input(\"Number of students: \"))\n",
    "    for i in range(n):\n",
    "        name = input(f\"Name of student {i + 1}: \")\n",
    "        marks = int(input(f\"Marks of {name}: \"))\n",
    "        students[name] = marks\n",
    "    return students\n",
    "\n",
    "def write_grades_to_file(students, filename):\n",
    "    with open(filename, 'w') as file:\n",
    "        for name, marks in students.items():\n",
    "            result = \"Pass\" if marks >= 40 else \"Fail\"\n",
    "            file.write(f\"{name}: {result}\\n\")\n",
    "\n",
    "if __name__ == \"__main__\":\n",
    "    student_data = get_student_data()\n",
    "    write_grades_to_file(student_data, \"grades.txt\")\n",
    "    print(\"Grades Saved\")"
   ]
  },
  {
   "cell_type": "markdown",
   "metadata": {},
   "source": [
    "## Level 6: Programming Challenges (Bonus)"
   ]
  },
  {
   "cell_type": "markdown",
   "metadata": {},
   "source": [
    "### 10. Leetcode\n",
    "Follow the below links and solve as many as you can. Provide you submission links."
   ]
  },
  {
   "cell_type": "code",
   "execution_count": null,
   "metadata": {},
   "outputs": [],
   "source": [
    "# Problem 1. https://leetcode.com/problems/defanging-an-ip-address/description/\n",
    "class Solution:\n",
    "    def defangIPaddr(self, address: str) -> str:\n",
    "        return address.replace('.', '[.]')\n",
    "\n",
    "# Problem 2. https://leetcode.com/problems/valid-parentheses/\n",
    "class Solution:\n",
    "    def isValid(self, s: str) -> bool:\n",
    "        st = []\n",
    "        for char in s:\n",
    "            if char == ')' and st and st[-1] == '(':\n",
    "                st.pop()\n",
    "            elif char == '}' and st and st[-1] == '{':\n",
    "                st.pop()\n",
    "            elif char == ']' and st and st[-1] == '[':\n",
    "                st.pop()\n",
    "            else:\n",
    "                st.append(char)\n",
    "        return len(st) == 0\n",
    "\n",
    "\n",
    "# Problem 3. https://leetcode.com/problems/merge-two-sorted-lists/\n",
    "pass # your submission link/code here\n",
    "\n",
    "# Problem 4. https://leetcode.com/problems/jewels-and-stones/description/\n",
    "class Solution:\n",
    "    def numJewelsInStones(self, jewels: str, stones: str) -> int:\n",
    "        jewel_set = set(jewels)\n",
    "        cnt = 0\n",
    "        for stone in stones:\n",
    "            if stone in jewel_set:\n",
    "                cnt += 1\n",
    "        return cnt\n",
    "\n",
    "# Problem 5. https://leetcode.com/problems/longest-common-prefix/\n",
    "from typing import List\n",
    "class Solution:\n",
    "    def longestCommonPrefix(self, v: List[str]) -> str:\n",
    "        if not v:\n",
    "            return \"\"\n",
    "        \n",
    "        v.sort()\n",
    "        first = v[0]\n",
    "        last = v[-1]\n",
    "        ans = \"\"\n",
    "\n",
    "        for i in range(min(len(first), len(last))):\n",
    "            if first[i] != last[i]:\n",
    "                break\n",
    "            ans += first[i]\n",
    "        \n",
    "        return ans"
   ]
  },
  {
   "cell_type": "code",
   "execution_count": null,
   "metadata": {},
   "outputs": [],
   "source": []
  }
 ],
 "metadata": {
  "kernelspec": {
   "display_name": "Python 3 (ipykernel)",
   "language": "python",
   "name": "python3"
  },
  "language_info": {
   "codemirror_mode": {
    "name": "ipython",
    "version": 3
   },
   "file_extension": ".py",
   "mimetype": "text/x-python",
   "name": "python",
   "nbconvert_exporter": "python",
   "pygments_lexer": "ipython3",
   "version": "3.12.9"
  }
 },
 "nbformat": 4,
 "nbformat_minor": 4
}
